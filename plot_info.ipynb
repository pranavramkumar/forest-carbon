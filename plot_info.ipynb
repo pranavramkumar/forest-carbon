{
 "cells": [
  {
   "cell_type": "markdown",
   "id": "1358a964",
   "metadata": {},
   "source": [
    "# 1. Import the required libraries"
   ]
  },
  {
   "cell_type": "code",
   "execution_count": null,
   "id": "e7a104f8",
   "metadata": {},
   "outputs": [],
   "source": [
    "import pandas as pd\n",
    "import geopandas as gpd\n",
    "import matplotlib.pyplot as plt\n",
    "import geemap\n",
    "import json\n",
    "import os\n",
    "import requests\n",
    "from geemap import geojson_to_ee, ee_to_geojson\n",
    "from ipyleaflet import GeoJSON, Marker, MarkerCluster"
   ]
  },
  {
   "cell_type": "markdown",
   "id": "cb4eddfc",
   "metadata": {},
   "source": [
    "# 2. Load the data"
   ]
  },
  {
   "cell_type": "markdown",
   "id": "b51b8f27",
   "metadata": {},
   "source": [
    "## Loading the forest inventory table\n",
    "Load the `forest inventory` table (from *PostGIS*, *JSON* or *shapefile*) into a `geopandas` dataframe and observe the data"
   ]
  },
  {
   "cell_type": "code",
   "execution_count": null,
   "id": "cb652b75",
   "metadata": {},
   "outputs": [],
   "source": [
    "gdf = gpd.read_file('./shapes/shapes.shp')\n",
    "gdf"
   ]
  },
  {
   "cell_type": "markdown",
   "id": "c6289ed0",
   "metadata": {},
   "source": [
    "## Loading the plot information data (collected from the projects)\n",
    "Static information about the projects (a.k.a. `plot information`) may be collected from (i) Conversations with project stakeholders, (ii) Survey forms (or) (iii) Project design documentation. Load this data to check if it is complete or if any data needs to be corrected or imputed"
   ]
  },
  {
   "cell_type": "code",
   "execution_count": null,
   "id": "05001888",
   "metadata": {},
   "outputs": [],
   "source": [
    "df = pd.read_csv('./data/Plot information.csv')\n",
    "df"
   ]
  },
  {
   "cell_type": "markdown",
   "id": "3ff92c5d",
   "metadata": {},
   "source": [
    "## Insert the obtained plot information data into the PostGIS database"
   ]
  },
  {
   "cell_type": "markdown",
   "id": "31f7ae82",
   "metadata": {},
   "source": [
    "Per our architecture, static information about the projects (a.k.a. `plot information`) once collected, is saved in the `T2 - Plot information` table. Insert the data into the PostGIS table using a SQL statement"
   ]
  },
  {
   "cell_type": "code",
   "execution_count": null,
   "id": "7ef813e3",
   "metadata": {},
   "outputs": [],
   "source": [
    "#INSERT INTO SQL STATEMENT"
   ]
  },
  {
   "cell_type": "markdown",
   "id": "d2a72f89",
   "metadata": {},
   "source": [
    "# 2. Merge the data"
   ]
  },
  {
   "cell_type": "markdown",
   "id": "63b1ca1d",
   "metadata": {},
   "source": [
    "## (use a horizontal concatenation operation, using the axis parameter)\n",
    "If both the `forest inventory` table and the `plot information` data are up-to-date and clean, merge the two dataframes and reset the index information. Drop any duplicated columns (such as `Plot ID` i.e. `PID`)"
   ]
  },
  {
   "cell_type": "code",
   "execution_count": null,
   "id": "75e25191",
   "metadata": {},
   "outputs": [],
   "source": [
    "df.rename(columns={\"Plot ID\":\"PID\"}, inplace=True)\n",
    "gdf = pd.concat([gdf, df], axis=1)\n",
    "gdf.drop(columns=gdf.columns[3],inplace=True)\n",
    "gdf['PID'] = ['10000', '10001', '10002', '10003', '10004', '10005']\n",
    "gdf.set_index(\"PID\", inplace=True)\n",
    "gdf"
   ]
  },
  {
   "cell_type": "markdown",
   "id": "3010cd5a",
   "metadata": {},
   "source": [
    "# 3. Save the data"
   ]
  },
  {
   "cell_type": "markdown",
   "id": "d37fb38f",
   "metadata": {},
   "source": [
    "## With polygonal geometry\n",
    "Typically vector information involving areas (states, counties, regions etc..) are plotted as vector polygons with attributes in readable widgets or popups. Save the joined vector table as (i) `ESRI shapefile` (ii) `Geojson table`"
   ]
  },
  {
   "cell_type": "code",
   "execution_count": null,
   "id": "06a6c0f4",
   "metadata": {},
   "outputs": [],
   "source": [
    "gdf.to_file(\"./shapes/plot_info.shp\")\n",
    "gdf.to_file(\"./shapes/geojson/plot_info.geojson\", driver='GeoJSON')"
   ]
  },
  {
   "cell_type": "markdown",
   "id": "0e3f9d6b",
   "metadata": {},
   "source": [
    "## With point geometry\n",
    "One may be interested to plot the vector data, not as polygons with attributes, but rather as points (i.e. marker clusters) with popups. This means we would need to make a discretion around which point to consider within a polygon. The most common and appropriate choice is the `centroid` of the polygon."
   ]
  },
  {
   "cell_type": "code",
   "execution_count": null,
   "id": "494d6b89",
   "metadata": {
    "scrolled": true
   },
   "outputs": [],
   "source": [
    "#computing polygon centroids using a built in geopandas method\n",
    "gdf['centroid'] = gdf.centroid\n",
    "gdf"
   ]
  },
  {
   "cell_type": "markdown",
   "id": "61869887",
   "metadata": {},
   "source": [
    "Drop the geometry column, rename the centroid column a geometry and save the table with the point geometry as (i) `ESRI shapefile` (ii) `Geojson table`"
   ]
  },
  {
   "cell_type": "code",
   "execution_count": null,
   "id": "3678e9ee",
   "metadata": {},
   "outputs": [],
   "source": [
    "gdf.drop(columns=\"geometry\", inplace=True)\n",
    "gdf.rename(columns={\"centroid\": \"geometry\"}, inplace=True)\n",
    "gdf.to_file(\"./shapes/plot_info_centroids.shp\")\n",
    "gdf.to_file(\"./shapes/geojson/plot_info_centroids.geojson\", driver='GeoJSON')"
   ]
  },
  {
   "cell_type": "markdown",
   "id": "073da835",
   "metadata": {},
   "source": [
    "# 3. Visualize the vector data to check accuracy"
   ]
  },
  {
   "cell_type": "markdown",
   "id": "1c55077f",
   "metadata": {},
   "source": [
    "In order to ensure that the saved vector tables (with `polygonal` and `point` geometry) are accurate, \n",
    "(i) create a new interactive map with Geemap, and use the UI controls to load the shapefile / geojson tables\n",
    "(ii) use the UI controls to alter the colormap and other presentation elements as required"
   ]
  },
  {
   "cell_type": "code",
   "execution_count": null,
   "id": "607f18a4",
   "metadata": {},
   "outputs": [],
   "source": [
    "#Point cluster plot (centroids)\n",
    "Map = geemap.Map()\n",
    "Map"
   ]
  },
  {
   "cell_type": "markdown",
   "id": "90450256",
   "metadata": {},
   "source": [
    "---\n",
    "Copyright © 2022 Carbon Capital Advisors. This content is licensed solely for personal use. Redistribution or publication of this material is strictly prohibited."
   ]
  }
 ],
 "metadata": {
  "interpreter": {
   "hash": "ee74e2959198cd0643cfcce51cf49371559fd4ee2e063cae25d89f2784fb172e"
  },
  "kernelspec": {
   "display_name": "Python 3 (ipykernel)",
   "language": "python",
   "name": "python3"
  },
  "language_info": {
   "codemirror_mode": {
    "name": "ipython",
    "version": 3
   },
   "file_extension": ".py",
   "mimetype": "text/x-python",
   "name": "python",
   "nbconvert_exporter": "python",
   "pygments_lexer": "ipython3",
   "version": "3.9.13"
  }
 },
 "nbformat": 4,
 "nbformat_minor": 5
}
