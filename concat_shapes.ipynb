{
 "cells": [
  {
   "cell_type": "markdown",
   "metadata": {},
   "source": [
    "# 1. Import the required libraries"
   ]
  },
  {
   "cell_type": "code",
   "execution_count": 1,
   "metadata": {},
   "outputs": [],
   "source": [
    "import pandas as pd\n",
    "import geopandas as gpd\n",
    "import matplotlib.pyplot as plt\n",
    "from shapely.geometry import shape as sp"
   ]
  },
  {
   "cell_type": "markdown",
   "metadata": {},
   "source": [
    "# 2. Load the downloaded shapefiles and retain solely the required fields"
   ]
  },
  {
   "cell_type": "markdown",
   "metadata": {},
   "source": [
    "## Regions in the Democratic Republic of Congo\n",
    "There are two regions of interest in the Democratic Republic of Congo which we have selected, namely `Equateur` and `Orientale`."
   ]
  },
  {
   "cell_type": "markdown",
   "metadata": {},
   "source": [
    "**Data manipulation task:** The data manipulation required is as below - \n",
    "(i) Drop the columns which are not required (ii) Rename the columns which are retained (Country, and Region respectively) and (iii) Insert a new column 'to_crs' with the epsg code of the transform required to convert the polygonal geometry from a geographic projection to a distance projection (in metres) for computing distances (such as areas and perimeters); The correct transform code required for different parts of the globe can be obtained from epsg.io\n",
    "\n",
    "- [EPSG.IO](https://epsg.io/)"
   ]
  },
  {
   "cell_type": "code",
   "execution_count": 2,
   "metadata": {},
   "outputs": [
    {
     "data": {
      "text/html": [
       "<div>\n",
       "<style scoped>\n",
       "    .dataframe tbody tr th:only-of-type {\n",
       "        vertical-align: middle;\n",
       "    }\n",
       "\n",
       "    .dataframe tbody tr th {\n",
       "        vertical-align: top;\n",
       "    }\n",
       "\n",
       "    .dataframe thead th {\n",
       "        text-align: right;\n",
       "    }\n",
       "</style>\n",
       "<table border=\"1\" class=\"dataframe\">\n",
       "  <thead>\n",
       "    <tr style=\"text-align: right;\">\n",
       "      <th></th>\n",
       "      <th>Country</th>\n",
       "      <th>Region</th>\n",
       "      <th>geometry</th>\n",
       "      <th>to_crs</th>\n",
       "    </tr>\n",
       "  </thead>\n",
       "  <tbody>\n",
       "    <tr>\n",
       "      <th>0</th>\n",
       "      <td>Democratic Republic of the Congo</td>\n",
       "      <td>Équateur</td>\n",
       "      <td>POLYGON ((19.60209 5.13152, 19.61267 5.12790, ...</td>\n",
       "      <td>epsg:4057</td>\n",
       "    </tr>\n",
       "  </tbody>\n",
       "</table>\n",
       "</div>"
      ],
      "text/plain": [
       "                            Country    Region  \\\n",
       "0  Democratic Republic of the Congo  Équateur   \n",
       "\n",
       "                                            geometry     to_crs  \n",
       "0  POLYGON ((19.60209 5.13152, 19.61267 5.12790, ...  epsg:4057  "
      ]
     },
     "execution_count": 2,
     "metadata": {},
     "output_type": "execute_result"
    }
   ],
   "source": [
    "#Equateur\n",
    "equateur = gpd.read_file('./shapes/DRCongo/Equateur.shp')\n",
    "equateur = equateur.drop(columns=['ID_0', 'ISO', 'ID_1', 'TYPE_1', 'ENGTYPE_1', 'NL_NAME_1', 'VARNAME_1'])\n",
    "equateur.rename(columns={'NAME_0':'Country', 'NAME_1':'Region'}, inplace=True)\n",
    "equateur['to_crs'] = 'epsg:4057'\n",
    "equateur"
   ]
  },
  {
   "cell_type": "code",
   "execution_count": 3,
   "metadata": {},
   "outputs": [
    {
     "data": {
      "text/html": [
       "<div>\n",
       "<style scoped>\n",
       "    .dataframe tbody tr th:only-of-type {\n",
       "        vertical-align: middle;\n",
       "    }\n",
       "\n",
       "    .dataframe tbody tr th {\n",
       "        vertical-align: top;\n",
       "    }\n",
       "\n",
       "    .dataframe thead th {\n",
       "        text-align: right;\n",
       "    }\n",
       "</style>\n",
       "<table border=\"1\" class=\"dataframe\">\n",
       "  <thead>\n",
       "    <tr style=\"text-align: right;\">\n",
       "      <th></th>\n",
       "      <th>Country</th>\n",
       "      <th>Region</th>\n",
       "      <th>geometry</th>\n",
       "      <th>to_crs</th>\n",
       "    </tr>\n",
       "  </thead>\n",
       "  <tbody>\n",
       "    <tr>\n",
       "      <th>0</th>\n",
       "      <td>Democratic Republic of the Congo</td>\n",
       "      <td>Orientale</td>\n",
       "      <td>POLYGON ((25.55505 5.37646, 25.56033 5.37533, ...</td>\n",
       "      <td>epsg:4057</td>\n",
       "    </tr>\n",
       "  </tbody>\n",
       "</table>\n",
       "</div>"
      ],
      "text/plain": [
       "                            Country     Region  \\\n",
       "0  Democratic Republic of the Congo  Orientale   \n",
       "\n",
       "                                            geometry     to_crs  \n",
       "0  POLYGON ((25.55505 5.37646, 25.56033 5.37533, ...  epsg:4057  "
      ]
     },
     "execution_count": 3,
     "metadata": {},
     "output_type": "execute_result"
    }
   ],
   "source": [
    "#Orientale\n",
    "orientale = gpd.read_file('./shapes/DRCongo/Orientale.shp')\n",
    "orientale = orientale.drop(columns=['ID_0', 'ISO', 'ID_1', 'TYPE_1', 'ENGTYPE_1', 'NL_NAME_1', 'VARNAME_1'])\n",
    "orientale.rename(columns={'NAME_0':'Country', 'NAME_1':'Region'}, inplace=True)\n",
    "orientale['to_crs'] = 'epsg:4057'\n",
    "orientale"
   ]
  },
  {
   "cell_type": "markdown",
   "metadata": {},
   "source": [
    "## Regions in the Republic of Congo\n",
    "There are two regions of interest in the Republic of Congo which we have selected, namely `Likouala` and `Dzangha-Sangha`."
   ]
  },
  {
   "cell_type": "markdown",
   "metadata": {},
   "source": [
    "**Data manipulation task:** The data manipulation required is as below - \n",
    "(i) Drop the columns which are not required (ii) Rename the columns which are retained (Country, and Region respectively) (iii) Rename the country to 'Congo' (iv) Reorder the columns through a dataframe subsetting operation and (v) Insert a new column 'to_crs' with the epsg code of the transform required to convert the polygonal geometry from a geographic projection to a distance projection (in metres) for computing distances (such as areas and perimeters); The correct transform code required for different parts of the globe can be obtained from epsg.io\n",
    "\n",
    "- [EPSG.IO](https://epsg.io/)"
   ]
  },
  {
   "cell_type": "code",
   "execution_count": 4,
   "metadata": {},
   "outputs": [
    {
     "data": {
      "text/html": [
       "<div>\n",
       "<style scoped>\n",
       "    .dataframe tbody tr th:only-of-type {\n",
       "        vertical-align: middle;\n",
       "    }\n",
       "\n",
       "    .dataframe tbody tr th {\n",
       "        vertical-align: top;\n",
       "    }\n",
       "\n",
       "    .dataframe thead th {\n",
       "        text-align: right;\n",
       "    }\n",
       "</style>\n",
       "<table border=\"1\" class=\"dataframe\">\n",
       "  <thead>\n",
       "    <tr style=\"text-align: right;\">\n",
       "      <th></th>\n",
       "      <th>Country</th>\n",
       "      <th>Region</th>\n",
       "      <th>geometry</th>\n",
       "      <th>to_crs</th>\n",
       "    </tr>\n",
       "  </thead>\n",
       "  <tbody>\n",
       "    <tr>\n",
       "      <th>0</th>\n",
       "      <td>Congo</td>\n",
       "      <td>Likouala</td>\n",
       "      <td>POLYGON ((17.60632 3.64125, 17.65328 3.63904, ...</td>\n",
       "      <td>epsg:4057</td>\n",
       "    </tr>\n",
       "  </tbody>\n",
       "</table>\n",
       "</div>"
      ],
      "text/plain": [
       "  Country    Region                                           geometry  \\\n",
       "0   Congo  Likouala  POLYGON ((17.60632 3.64125, 17.65328 3.63904, ...   \n",
       "\n",
       "      to_crs  \n",
       "0  epsg:4057  "
      ]
     },
     "execution_count": 4,
     "metadata": {},
     "output_type": "execute_result"
    }
   ],
   "source": [
    "#Likouala= 5.084731 = area\n",
    "likouala = gpd.read_file('./shapes/RepofCongo/Likouala.shp')\n",
    "likouala = likouala.drop(columns=['Shape_Leng', 'Shape_Area', 'ADM1_PCODE', 'ADM1_REF', 'ADM1ALT1FR', 'ADM1ALT2FR', 'ADM0_PCODE', 'date', 'validOn', 'validTo'])\n",
    "likouala.rename(columns={'ADM1_FR':'Region', 'ADM0_FR':'Country'}, inplace=True)\n",
    "likouala['Country'] = 'Congo'\n",
    "likouala = likouala[['Country', 'Region', 'geometry']]\n",
    "likouala['to_crs'] = 'epsg:4057'\n",
    "likouala"
   ]
  },
  {
   "cell_type": "code",
   "execution_count": 5,
   "metadata": {},
   "outputs": [
    {
     "data": {
      "text/html": [
       "<div>\n",
       "<style scoped>\n",
       "    .dataframe tbody tr th:only-of-type {\n",
       "        vertical-align: middle;\n",
       "    }\n",
       "\n",
       "    .dataframe tbody tr th {\n",
       "        vertical-align: top;\n",
       "    }\n",
       "\n",
       "    .dataframe thead th {\n",
       "        text-align: right;\n",
       "    }\n",
       "</style>\n",
       "<table border=\"1\" class=\"dataframe\">\n",
       "  <thead>\n",
       "    <tr style=\"text-align: right;\">\n",
       "      <th></th>\n",
       "      <th>Country</th>\n",
       "      <th>Region</th>\n",
       "      <th>geometry</th>\n",
       "      <th>to_crs</th>\n",
       "    </tr>\n",
       "  </thead>\n",
       "  <tbody>\n",
       "    <tr>\n",
       "      <th>0</th>\n",
       "      <td>Congo</td>\n",
       "      <td>Sangha</td>\n",
       "      <td>POLYGON ((16.46330 2.70887, 16.47159 2.70536, ...</td>\n",
       "      <td>epsg:4057</td>\n",
       "    </tr>\n",
       "  </tbody>\n",
       "</table>\n",
       "</div>"
      ],
      "text/plain": [
       "  Country  Region                                           geometry  \\\n",
       "0   Congo  Sangha  POLYGON ((16.46330 2.70887, 16.47159 2.70536, ...   \n",
       "\n",
       "      to_crs  \n",
       "0  epsg:4057  "
      ]
     },
     "execution_count": 5,
     "metadata": {},
     "output_type": "execute_result"
    }
   ],
   "source": [
    "#Dzangha-Sangha = 4.669242 = area\n",
    "dzangha_sangha = gpd.read_file('./shapes/RepofCongo/Dzangha-Sangha.shp')\n",
    "dzangha_sangha = dzangha_sangha.drop(columns=['Shape_Leng', 'Shape_Area', 'ADM1_PCODE', 'ADM1_REF', 'ADM1ALT1FR', 'ADM1ALT2FR', 'ADM0_PCODE', 'date', 'validOn', 'validTo'])\n",
    "dzangha_sangha.rename(columns={'ADM1_FR':'Region', 'ADM0_FR':'Country'}, inplace=True)\n",
    "dzangha_sangha['Country'] = 'Congo'\n",
    "dzangha_sangha = dzangha_sangha[['Country', 'Region', 'geometry']]\n",
    "dzangha_sangha['to_crs'] = 'epsg:4057'\n",
    "dzangha_sangha"
   ]
  },
  {
   "cell_type": "markdown",
   "metadata": {},
   "source": [
    "## Regions in the United States\n",
    "There are two regions of interest in the United States which we have selected, namely `Sierra National Forest` and `Los Padres National Forest`."
   ]
  },
  {
   "cell_type": "markdown",
   "metadata": {},
   "source": [
    "**Data manipulation task:** The data manipulation required is as below - \n",
    "(i) Drop the columns which are not required (ii) Rename the columns which are retained (Country, and Region respectively) (iii) Rename the country to 'USA' (iv) Reorder the columns through a dataframe subsetting operation (v) Insert a new column 'to_crs' with the epsg code of the transform required to convert the polygonal geometry from a geographic projection to a distance projection (in metres) for computing distances (such as areas and perimeters) and (vi) Rename the region accordingly to match the format of the dataframes for other countries;\n",
    "Note: The correct transform code required for different parts of the globe can be obtained from epsg.io\n",
    "\n",
    "- [EPSG.IO](https://epsg.io/)"
   ]
  },
  {
   "cell_type": "code",
   "execution_count": 6,
   "metadata": {},
   "outputs": [
    {
     "data": {
      "text/html": [
       "<div>\n",
       "<style scoped>\n",
       "    .dataframe tbody tr th:only-of-type {\n",
       "        vertical-align: middle;\n",
       "    }\n",
       "\n",
       "    .dataframe tbody tr th {\n",
       "        vertical-align: top;\n",
       "    }\n",
       "\n",
       "    .dataframe thead th {\n",
       "        text-align: right;\n",
       "    }\n",
       "</style>\n",
       "<table border=\"1\" class=\"dataframe\">\n",
       "  <thead>\n",
       "    <tr style=\"text-align: right;\">\n",
       "      <th></th>\n",
       "      <th>Country</th>\n",
       "      <th>Region</th>\n",
       "      <th>geometry</th>\n",
       "      <th>to_crs</th>\n",
       "    </tr>\n",
       "  </thead>\n",
       "  <tbody>\n",
       "    <tr>\n",
       "      <th>0</th>\n",
       "      <td>USA</td>\n",
       "      <td>Sierra</td>\n",
       "      <td>MULTIPOLYGON (((-119.77867 37.46773, -119.7786...</td>\n",
       "      <td>epsg:26943</td>\n",
       "    </tr>\n",
       "  </tbody>\n",
       "</table>\n",
       "</div>"
      ],
      "text/plain": [
       "  Country  Region                                           geometry  \\\n",
       "0     USA  Sierra  MULTIPOLYGON (((-119.77867 37.46773, -119.7786...   \n",
       "\n",
       "       to_crs  \n",
       "0  epsg:26943  "
      ]
     },
     "execution_count": 6,
     "metadata": {},
     "output_type": "execute_result"
    }
   ],
   "source": [
    "#Sierra = 0.583227 = area; GIS_ACRES = 1418789.802; Shape_LEN = 6.597522\n",
    "sierra = gpd.read_file('./shapes/USA/Sierra.shp')\n",
    "sierra = sierra.drop(columns=['ADMINFORES', 'REGION', 'FORESTNUMB', 'FORESTORGC', 'GIS_ACRES', 'SHAPE_AREA', 'SHAPE_LEN'])\n",
    "sierra['Country'] = 'USA'\n",
    "sierra.rename(columns={'FORESTNAME':'Region'}, inplace=True)\n",
    "sierra = sierra[['Country', 'Region', 'geometry']]\n",
    "sierra['to_crs'] = 'epsg:26943'\n",
    "sierra['Region'] = 'Sierra'\n",
    "sierra"
   ]
  },
  {
   "cell_type": "code",
   "execution_count": 7,
   "metadata": {},
   "outputs": [
    {
     "data": {
      "text/html": [
       "<div>\n",
       "<style scoped>\n",
       "    .dataframe tbody tr th:only-of-type {\n",
       "        vertical-align: middle;\n",
       "    }\n",
       "\n",
       "    .dataframe tbody tr th {\n",
       "        vertical-align: top;\n",
       "    }\n",
       "\n",
       "    .dataframe thead th {\n",
       "        text-align: right;\n",
       "    }\n",
       "</style>\n",
       "<table border=\"1\" class=\"dataframe\">\n",
       "  <thead>\n",
       "    <tr style=\"text-align: right;\">\n",
       "      <th></th>\n",
       "      <th>Country</th>\n",
       "      <th>Region</th>\n",
       "      <th>geometry</th>\n",
       "      <th>to_crs</th>\n",
       "    </tr>\n",
       "  </thead>\n",
       "  <tbody>\n",
       "    <tr>\n",
       "      <th>0</th>\n",
       "      <td>USA</td>\n",
       "      <td>Los Padres</td>\n",
       "      <td>MULTIPOLYGON (((-120.74838 35.44383, -120.7483...</td>\n",
       "      <td>epsg:6423</td>\n",
       "    </tr>\n",
       "  </tbody>\n",
       "</table>\n",
       "</div>"
      ],
      "text/plain": [
       "  Country      Region                                           geometry  \\\n",
       "0     USA  Los Padres  MULTIPOLYGON (((-120.74838 35.44383, -120.7483...   \n",
       "\n",
       "      to_crs  \n",
       "0  epsg:6423  "
      ]
     },
     "execution_count": 7,
     "metadata": {},
     "output_type": "execute_result"
    }
   ],
   "source": [
    "#Los Padres = 0.787442 = area\n",
    "los_padres = gpd.read_file('./shapes/USA/LosPadres.shp')\n",
    "los_padres = los_padres.drop(columns=['ADMINFORES', 'REGION', 'FORESTNUMB', 'FORESTORGC', 'GIS_ACRES', 'SHAPE_AREA', 'SHAPE_LEN'])\n",
    "los_padres['Country'] = 'USA'\n",
    "los_padres.rename(columns={'FORESTNAME':'Region'}, inplace=True)\n",
    "los_padres = los_padres[['Country', 'Region', 'geometry']]\n",
    "los_padres['to_crs'] = 'epsg:6423'\n",
    "los_padres['Region'] = 'Los Padres'\n",
    "los_padres"
   ]
  },
  {
   "cell_type": "markdown",
   "metadata": {},
   "source": [
    "# 3. Concatenate the data frames"
   ]
  },
  {
   "cell_type": "markdown",
   "metadata": {},
   "source": [
    "**Pandas concatenation task:** The data manipulation required is as below - \n",
    "(i) Drop the columns which are not required (ii) Rename the columns which are retained (Country, and Region respectively) (iii) Rename the country to 'USA' (iv) Reorder the columns through a dataframe subsetting operation (v) Insert a new column 'to_crs' with the epsg code of the transform required to convert the polygonal geometry from a geographic projection to a distance projection (in metres) for computing distances (such as areas and perimeters) and (vi) Rename the region accordingly to match the format of the dataframes for other countries;\n",
    "\n",
    "**Indexing task:** Once the different forests / plots have been concatenated into a single table, we create an index row called PID; This will serve as a `primary key` to join the polygon information with other information for future computations or visualizations"
   ]
  },
  {
   "cell_type": "code",
   "execution_count": 8,
   "metadata": {},
   "outputs": [
    {
     "data": {
      "text/html": [
       "<div>\n",
       "<style scoped>\n",
       "    .dataframe tbody tr th:only-of-type {\n",
       "        vertical-align: middle;\n",
       "    }\n",
       "\n",
       "    .dataframe tbody tr th {\n",
       "        vertical-align: top;\n",
       "    }\n",
       "\n",
       "    .dataframe thead th {\n",
       "        text-align: right;\n",
       "    }\n",
       "</style>\n",
       "<table border=\"1\" class=\"dataframe\">\n",
       "  <thead>\n",
       "    <tr style=\"text-align: right;\">\n",
       "      <th></th>\n",
       "      <th>Country</th>\n",
       "      <th>Region</th>\n",
       "      <th>geometry</th>\n",
       "      <th>to_crs</th>\n",
       "      <th>PID</th>\n",
       "    </tr>\n",
       "  </thead>\n",
       "  <tbody>\n",
       "    <tr>\n",
       "      <th>0</th>\n",
       "      <td>Congo</td>\n",
       "      <td>Likouala</td>\n",
       "      <td>POLYGON ((17.60632 3.64125, 17.65328 3.63904, ...</td>\n",
       "      <td>epsg:4057</td>\n",
       "      <td>10000</td>\n",
       "    </tr>\n",
       "    <tr>\n",
       "      <th>0</th>\n",
       "      <td>Congo</td>\n",
       "      <td>Sangha</td>\n",
       "      <td>POLYGON ((16.46330 2.70887, 16.47159 2.70536, ...</td>\n",
       "      <td>epsg:4057</td>\n",
       "      <td>10001</td>\n",
       "    </tr>\n",
       "    <tr>\n",
       "      <th>0</th>\n",
       "      <td>Democratic Republic of the Congo</td>\n",
       "      <td>Équateur</td>\n",
       "      <td>POLYGON ((19.60209 5.13152, 19.61267 5.12790, ...</td>\n",
       "      <td>epsg:4057</td>\n",
       "      <td>10002</td>\n",
       "    </tr>\n",
       "    <tr>\n",
       "      <th>0</th>\n",
       "      <td>Democratic Republic of the Congo</td>\n",
       "      <td>Orientale</td>\n",
       "      <td>POLYGON ((25.55505 5.37646, 25.56033 5.37533, ...</td>\n",
       "      <td>epsg:4057</td>\n",
       "      <td>10003</td>\n",
       "    </tr>\n",
       "    <tr>\n",
       "      <th>0</th>\n",
       "      <td>USA</td>\n",
       "      <td>Sierra</td>\n",
       "      <td>MULTIPOLYGON (((-119.77867 37.46773, -119.7786...</td>\n",
       "      <td>epsg:26943</td>\n",
       "      <td>10004</td>\n",
       "    </tr>\n",
       "    <tr>\n",
       "      <th>0</th>\n",
       "      <td>USA</td>\n",
       "      <td>Los Padres</td>\n",
       "      <td>MULTIPOLYGON (((-120.74838 35.44383, -120.7483...</td>\n",
       "      <td>epsg:6423</td>\n",
       "      <td>10005</td>\n",
       "    </tr>\n",
       "  </tbody>\n",
       "</table>\n",
       "</div>"
      ],
      "text/plain": [
       "                            Country      Region  \\\n",
       "0                             Congo    Likouala   \n",
       "0                             Congo      Sangha   \n",
       "0  Democratic Republic of the Congo    Équateur   \n",
       "0  Democratic Republic of the Congo   Orientale   \n",
       "0                               USA      Sierra   \n",
       "0                               USA  Los Padres   \n",
       "\n",
       "                                            geometry      to_crs    PID  \n",
       "0  POLYGON ((17.60632 3.64125, 17.65328 3.63904, ...   epsg:4057  10000  \n",
       "0  POLYGON ((16.46330 2.70887, 16.47159 2.70536, ...   epsg:4057  10001  \n",
       "0  POLYGON ((19.60209 5.13152, 19.61267 5.12790, ...   epsg:4057  10002  \n",
       "0  POLYGON ((25.55505 5.37646, 25.56033 5.37533, ...   epsg:4057  10003  \n",
       "0  MULTIPOLYGON (((-119.77867 37.46773, -119.7786...  epsg:26943  10004  \n",
       "0  MULTIPOLYGON (((-120.74838 35.44383, -120.7483...   epsg:6423  10005  "
      ]
     },
     "execution_count": 8,
     "metadata": {},
     "output_type": "execute_result"
    }
   ],
   "source": [
    "gdf = gpd.GeoDataFrame(pd.concat([likouala, dzangha_sangha, equateur, orientale, sierra, los_padres]))\n",
    "gdf[\"PID\"] = ['10000', '10001', '10002', '10003', '10004', '10005']\n",
    "gdf"
   ]
  },
  {
   "cell_type": "markdown",
   "metadata": {},
   "source": [
    "# 4. Save the table in different formats"
   ]
  },
  {
   "cell_type": "markdown",
   "metadata": {},
   "source": [
    "**ESRI Shapefile** The ESRI shapefile is one of the most popular formats for geographic information; The shape file adds a geometry (polygon / feature) to a pandas data frame \n",
    "\n",
    "**Geojson file** The Geojson file is another very popular  file format for geographic vector data; The Geojson file adds geographic information (i.e. a geometry or a polygon) to a structured JSON table\n",
    "\n",
    "**INSERT into PostGIS database table** Per the data architecture of this project, this table forms the basis for all the other tables; This table can be inserted into the T1 - Forest Inventory table"
   ]
  },
  {
   "cell_type": "code",
   "execution_count": 9,
   "metadata": {},
   "outputs": [],
   "source": [
    "gdf.to_file(\"./shapes/shapes.shp\")\n",
    "gdf.to_file(\"./shapes/geojson/shapes.geojson\", driver='GeoJSON')"
   ]
  },
  {
   "cell_type": "markdown",
   "metadata": {},
   "source": [
    "---\n",
    "Copyright © 2022 Carbon Capital Advisors. This content is licensed solely for personal use. Redistribution or publication of this material is strictly prohibited."
   ]
  }
 ],
 "metadata": {
  "interpreter": {
   "hash": "ee74e2959198cd0643cfcce51cf49371559fd4ee2e063cae25d89f2784fb172e"
  },
  "kernelspec": {
   "display_name": "Python 3 (ipykernel)",
   "language": "python",
   "name": "python3"
  },
  "language_info": {
   "codemirror_mode": {
    "name": "ipython",
    "version": 3
   },
   "file_extension": ".py",
   "mimetype": "text/x-python",
   "name": "python",
   "nbconvert_exporter": "python",
   "pygments_lexer": "ipython3",
   "version": "3.9.13"
  }
 },
 "nbformat": 4,
 "nbformat_minor": 2
}
